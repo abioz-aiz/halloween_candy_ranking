{
 "cells": [
  {
   "cell_type": "code",
   "execution_count": 7,
   "id": "50193a0c-5a39-4b8c-8c5d-674c3ca169bc",
   "metadata": {
    "scrolled": true
   },
   "outputs": [
    {
     "name": "stderr",
     "output_type": "stream",
     "text": [
      "/home/zoiba/anaconda3/envs/myenv/lib/python3.12/site-packages/openpyxl/worksheet/_reader.py:329: UserWarning: Conditional Formatting extension is not supported and will be removed\n",
      "  warn(msg)\n"
     ]
    },
    {
     "ename": "NameError",
     "evalue": "name 'new_rows' is not defined",
     "output_type": "error",
     "traceback": [
      "\u001b[0;31m---------------------------------------------------------------------------\u001b[0m",
      "\u001b[0;31mNameError\u001b[0m                                 Traceback (most recent call last)",
      "Cell \u001b[0;32mIn[7], line 43\u001b[0m\n\u001b[1;32m     34\u001b[0m    new_row \u001b[38;5;241m=\u001b[39m {\n\u001b[1;32m     35\u001b[0m        \u001b[38;5;124m'\u001b[39m\u001b[38;5;124mcompetitorname\u001b[39m\u001b[38;5;124m'\u001b[39m: row[\u001b[38;5;124m'\u001b[39m\u001b[38;5;124mcompetitorname\u001b[39m\u001b[38;5;124m'\u001b[39m],\n\u001b[1;32m     36\u001b[0m        \u001b[38;5;124m'\u001b[39m\u001b[38;5;124mCategory 1\u001b[39m\u001b[38;5;124m'\u001b[39m: categories[\u001b[38;5;241m0\u001b[39m] \u001b[38;5;28;01mif\u001b[39;00m \u001b[38;5;28mlen\u001b[39m(categories) \u001b[38;5;241m>\u001b[39m \u001b[38;5;241m0\u001b[39m \u001b[38;5;28;01melse\u001b[39;00m \u001b[38;5;28;01mNone\u001b[39;00m,\n\u001b[0;32m   (...)\u001b[0m\n\u001b[1;32m     39\u001b[0m        \u001b[38;5;124m'\u001b[39m\u001b[38;5;124mCategory 4\u001b[39m\u001b[38;5;124m'\u001b[39m: categories[\u001b[38;5;241m3\u001b[39m] \u001b[38;5;28;01mif\u001b[39;00m \u001b[38;5;28mlen\u001b[39m(categories) \u001b[38;5;241m>\u001b[39m \u001b[38;5;241m3\u001b[39m \u001b[38;5;28;01melse\u001b[39;00m \u001b[38;5;28;01mNone\u001b[39;00m\n\u001b[1;32m     40\u001b[0m    }\n\u001b[1;32m     42\u001b[0m    \u001b[38;5;66;03m# Append the new row to the DataFrame\u001b[39;00m\n\u001b[0;32m---> 43\u001b[0m new_candy_data \u001b[38;5;241m=\u001b[39m pd\u001b[38;5;241m.\u001b[39mconcat([new_candy_data, pd\u001b[38;5;241m.\u001b[39mDataFrame(new_rows)], ignore_index\u001b[38;5;241m=\u001b[39m\u001b[38;5;28;01mTrue\u001b[39;00m)\n\u001b[1;32m     45\u001b[0m \u001b[38;5;66;03m# Save the new data to an Excel file\u001b[39;00m\n\u001b[1;32m     46\u001b[0m new_candy_data\u001b[38;5;241m.\u001b[39mto_excel(\u001b[38;5;124m'\u001b[39m\u001b[38;5;124mcandy_categories.xlsx\u001b[39m\u001b[38;5;124m'\u001b[39m, index\u001b[38;5;241m=\u001b[39m\u001b[38;5;28;01mFalse\u001b[39;00m)\n",
      "\u001b[0;31mNameError\u001b[0m: name 'new_rows' is not defined"
     ]
    }
   ],
   "source": [
    " import pandas as pd\n",
    "\n",
    "# Load your original data (replace 'candy-data.xlsx' with your actual file path)\n",
    "sheet1 = pd.read_excel('/home/zoiba/fun_projects/halloween_candy/candy-data.xlsx')\n",
    "\n",
    "# Create a new DataFrame structure\n",
    "new_candy_data = pd.DataFrame(columns=['competitorname', 'Category 1', 'Category 2', 'Category 3', 'Category 4'])\n",
    "\n",
    "# List of columns corresponding to the categories in the original dataset\n",
    "category_columns = ['chocolate', 'fruity', 'caramel', 'peanutyalmondy', 'nougat', 'crispedricewafer', 'hard', 'bar']\n",
    "\n",
    "# Mapping category column names to more readable names for the new file\n",
    "category_map = {\n",
    "    'chocolate': 'Chocolate',\n",
    "    'fruity': 'Fruity',\n",
    "    'caramel': 'Caramel',\n",
    "    'peanutyalmondy': 'PeanutyAlmondy',\n",
    "    'nougat': 'Nougat',\n",
    "    'crispedricewafer': 'CrispedRiceWafer',\n",
    "    'hard': 'Hard',\n",
    "    'bar': 'Bar'\n",
    "}\n",
    "\n",
    "# Populate the new DataFrame\n",
    "for idx, row in sheet1.iterrows():\n",
    "    categories = []\n",
    "    \n",
    "    # Loop through each category column to check if the value is 1\n",
    "    for col in category_columns:\n",
    "        if row[col] == 1:\n",
    "            categories.append(category_map[col])\n",
    "    \n",
    "    # Fill the 'Category 1', 'Category 2', 'Category 3', 'Category 4' columns\n",
    "    new_row = {\n",
    "        'competitorname': row['competitorname'],\n",
    "        'Category 1': categories[0] if len(categories) > 0 else None,\n",
    "        'Category 2': categories[1] if len(categories) > 1 else None,\n",
    "        'Category 3': categories[2] if len(categories) > 2 else None,\n",
    "        'Category 4': categories[3] if len(categories) > 3 else None\n",
    "    }\n",
    "    \n",
    "    # Append the new row to the DataFrame\n",
    "new_candy_data = pd.concat([new_candy_data, pd.DataFrame(new_rows)], ignore_index=True)\n",
    "\n",
    "# Save the new data to an Excel file\n",
    "new_candy_data.to_excel('candy_categories.xlsx', index=False)\n"
   ]
  },
  {
   "cell_type": "code",
   "execution_count": 5,
   "id": "ca4478f0-f284-44e2-8cc8-79473f6373e3",
   "metadata": {},
   "outputs": [
    {
     "name": "stdout",
     "output_type": "stream",
     "text": [
      "Collecting openpyxl\n",
      "  Downloading openpyxl-3.1.5-py2.py3-none-any.whl.metadata (2.5 kB)\n",
      "Collecting et-xmlfile (from openpyxl)\n",
      "  Downloading et_xmlfile-1.1.0-py3-none-any.whl.metadata (1.8 kB)\n",
      "Downloading openpyxl-3.1.5-py2.py3-none-any.whl (250 kB)\n",
      "\u001b[2K   \u001b[90m━━━━━━━━━━━━━━━━━━━━━━━━━━━━━━━━━━━━━━━━\u001b[0m \u001b[32m250.9/250.9 kB\u001b[0m \u001b[31m4.5 MB/s\u001b[0m eta \u001b[36m0:00:00\u001b[0ma \u001b[36m0:00:01\u001b[0m\n",
      "\u001b[?25hDownloading et_xmlfile-1.1.0-py3-none-any.whl (4.7 kB)\n",
      "Installing collected packages: et-xmlfile, openpyxl\n",
      "Successfully installed et-xmlfile-1.1.0 openpyxl-3.1.5\n"
     ]
    }
   ],
   "source": [
    "!pip install openpyxl"
   ]
  },
  {
   "cell_type": "code",
   "execution_count": 9,
   "id": "4d021a6c-370c-4a18-a198-fdfe56a6728c",
   "metadata": {},
   "outputs": [
    {
     "name": "stderr",
     "output_type": "stream",
     "text": [
      "/home/zoiba/anaconda3/envs/myenv/lib/python3.12/site-packages/openpyxl/worksheet/_reader.py:329: UserWarning: Conditional Formatting extension is not supported and will be removed\n",
      "  warn(msg)\n"
     ]
    }
   ],
   "source": [
    "import pandas as pd\n",
    "\n",
    "# Load your original data (replace 'candy-data.xlsx' with your actual file path)\n",
    "sheet1 = pd.read_excel('candy-data.xlsx')\n",
    "\n",
    "# Create a new DataFrame structure\n",
    "new_candy_data = pd.DataFrame(columns=['competitorname', 'Category 1', 'Category 2', 'Category 3', 'Category 4'])\n",
    "\n",
    "# List of columns corresponding to the categories in the original dataset\n",
    "category_columns = ['chocolate', 'fruity', 'caramel', 'peanutyalmondy', 'nougat', 'crispedricewafer', 'hard', 'bar', 'pluribus']\n",
    "\n",
    "# Mapping category column names to more readable names for the new file\n",
    "category_map = {\n",
    "    'chocolate': 'Chocolate',\n",
    "    'fruity': 'Fruity',\n",
    "    'caramel': 'Caramel',\n",
    "    'peanutyalmondy': 'PeanutyAlmondy',\n",
    "    'nougat': 'Nougat',\n",
    "    'crispedricewafer': 'CrispedRiceWafer',\n",
    "    'hard': 'Hard',\n",
    "    'bar': 'Bar',\n",
    "    'pluribus': 'Pluribus'\n",
    "}\n",
    "\n",
    "# Populate the new DataFrame\n",
    "new_rows = []\n",
    "for idx, row in sheet1.iterrows():\n",
    "    categories = []\n",
    "    \n",
    "    # Loop through each category column to check if the value is 1\n",
    "    for col in category_columns:\n",
    "        if row[col] == 1:\n",
    "            categories.append(category_map[col])\n",
    "    \n",
    "    # Prepare a new row for concatenation\n",
    "    new_row = {\n",
    "        'competitorname': row['competitorname'],\n",
    "        'Category 1': categories[0] if len(categories) > 0 else None,\n",
    "        'Category 2': categories[1] if len(categories) > 1 else None,\n",
    "        'Category 3': categories[2] if len(categories) > 2 else None,\n",
    "        'Category 4': categories[3] if len(categories) > 3 else None\n",
    "    }\n",
    "    \n",
    "    # Add the new row to the list\n",
    "    new_rows.append(new_row)\n",
    "\n",
    "# Concatenate all rows into the DataFrame\n",
    "new_candy_data = pd.concat([new_candy_data, pd.DataFrame(new_rows)], ignore_index=True)\n",
    "\n",
    "# Save the new data to an Excel file\n",
    "new_candy_data.to_excel('candy_categories.xlsx', index=False)\n"
   ]
  },
  {
   "cell_type": "code",
   "execution_count": null,
   "id": "9f46d900-9dae-4617-a106-3b83c66a8e40",
   "metadata": {},
   "outputs": [],
   "source": []
  }
 ],
 "metadata": {
  "kernelspec": {
   "display_name": "Python 3 (ipykernel)",
   "language": "python",
   "name": "python3"
  },
  "language_info": {
   "codemirror_mode": {
    "name": "ipython",
    "version": 3
   },
   "file_extension": ".py",
   "mimetype": "text/x-python",
   "name": "python",
   "nbconvert_exporter": "python",
   "pygments_lexer": "ipython3",
   "version": "3.12.3"
  }
 },
 "nbformat": 4,
 "nbformat_minor": 5
}
